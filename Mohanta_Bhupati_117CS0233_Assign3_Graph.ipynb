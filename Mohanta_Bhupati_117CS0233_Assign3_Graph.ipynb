{
 "cells": [
  {
   "cell_type": "markdown",
   "metadata": {},
   "source": [
    "# programmed by 117CS0233(Bhupati)"
   ]
  },
  {
   "cell_type": "code",
   "execution_count": 59,
   "metadata": {},
   "outputs": [],
   "source": [
    "import numpy as np, os\n",
    "import cv2\n",
    "def LoadData(Dir, Img_Shape):\n",
    "    Images= []\n",
    "    Classes=[]\n",
    "    for(_, Dirs, _) in os.walk(Dir):\n",
    "        Dirs = sorted(Dirs)\n",
    "        for SubDir in Dirs:\n",
    "            SubjectPath = os.path.join(Dir, SubDir)\n",
    "            for FileName in os.listdir(SubjectPath):\n",
    "                path = SubjectPath + \"/\" + FileName\n",
    "                Img = cv2.imread(path,cv2.IMREAD_GRAYSCALE)\n",
    "\n",
    "                #print Img.shape\n",
    "                (height, width) = Img.shape\n",
    "\n",
    "                if(width != Img_Shape[0] or height != Img_Shape[1]):\n",
    "                    Img = Img.resize((Img_Shape[0], Img_Shape[1]))\n",
    "                Img=Img.reshape(Img_Shape[0] * Img_Shape[1])\n",
    "                #print(type(Img))\n",
    "                Images.append(Img)\n",
    "                Classes.append(SubDir)\n",
    "    return np.array(Images),np.array(Classes)"
   ]
  },
  {
   "cell_type": "code",
   "execution_count": 60,
   "metadata": {},
   "outputs": [],
   "source": [
    "training_dir = 'ATnT/Training'\n",
    "imageSize = 92*112\n",
    "imageWidth = 92\n",
    "imageHeight = 112\n",
    "\n",
    "X,Class_X= LoadData(training_dir, (imageWidth, imageHeight))\n"
   ]
  },
  {
   "cell_type": "code",
   "execution_count": 61,
   "metadata": {},
   "outputs": [
    {
     "data": {
      "text/plain": [
       "array([[ -80.33821817,  -79.33821817,  -83.33821817, ...,  -81.33821817,\n",
       "         -82.33821817,  -82.33821817],\n",
       "       [ -87.98893634,  -87.98893634,  -85.98893634, ..., -115.98893634,\n",
       "        -113.98893634, -113.98893634],\n",
       "       [ -93.59549689,  -88.59549689,  -79.59549689, ..., -103.59549689,\n",
       "        -106.59549689, -103.59549689],\n",
       "       ...,\n",
       "       [  -0.15130047,   -4.15130047,   -2.15130047, ...,  -21.15130047,\n",
       "         -25.15130047,  -28.15130047],\n",
       "       [  -3.77950311,   -4.77950311,   -2.77950311, ...,  -19.77950311,\n",
       "         -25.77950311,  -23.77950311],\n",
       "       [  -1.60461957,   -2.60461957,   -3.60461957, ...,  -27.60461957,\n",
       "         -27.60461957,  -25.60461957]])"
      ]
     },
     "execution_count": 61,
     "metadata": {},
     "output_type": "execute_result"
    }
   ],
   "source": [
    "mean=[]\n",
    "for i in X:\n",
    "    mean.append(i.mean())\n",
    "X_mean=np.array(mean)\n",
    "X_mean\n",
    "X_zero=[]\n",
    "for i in range(len(X)):\n",
    "    X_zero.append(X[i]-X_mean[i])\n",
    "train_zero=np.array(X_zero)\n",
    "train_zero"
   ]
  },
  {
   "cell_type": "code",
   "execution_count": 62,
   "metadata": {},
   "outputs": [
    {
     "data": {
      "text/plain": [
       "(240, 240)"
      ]
     },
     "execution_count": 62,
     "metadata": {},
     "output_type": "execute_result"
    }
   ],
   "source": [
    "cov=np.cov(X_zero)\n",
    "cov.shape"
   ]
  },
  {
   "cell_type": "code",
   "execution_count": 63,
   "metadata": {},
   "outputs": [
    {
     "data": {
      "text/plain": [
       "(240, 240)"
      ]
     },
     "execution_count": 63,
     "metadata": {},
     "output_type": "execute_result"
    }
   ],
   "source": [
    "#Calculate Eigen-Values and Eigen-Vectors\n",
    "w,v = np.linalg.eig(cov)\n",
    "#Eigen Vectors\n",
    "v.shape"
   ]
  },
  {
   "cell_type": "code",
   "execution_count": 64,
   "metadata": {},
   "outputs": [
    {
     "data": {
      "text/plain": [
       "array([2.32571962e+05, 5.89757035e+04, 2.52853495e+04, 2.25835399e+04,\n",
       "       1.41978897e+04, 1.19344121e+04, 9.99440964e+03, 8.91544180e+03,\n",
       "       7.14760115e+03, 6.53772046e+03, 5.38850131e+03, 4.82904247e+03,\n",
       "       4.56511003e+03, 3.94969822e+03, 3.86906029e+03, 3.72334681e+03,\n",
       "       3.64843108e+03, 3.21056590e+03, 3.04837039e+03, 2.81878850e+03,\n",
       "       2.71282171e+03, 2.40380343e+03, 2.32637045e+03, 2.20640673e+03,\n",
       "       2.09013899e+03, 2.02790275e+03, 1.98761012e+03, 1.90952615e+03,\n",
       "       1.87629413e+03, 1.75978392e+03, 1.71437621e+03, 1.65957570e+03,\n",
       "       1.61933704e+03, 1.57215292e+03, 1.50395685e+03, 1.45046760e+03,\n",
       "       1.42580844e+03, 1.34036253e+03, 1.31579580e+03, 1.28051276e+03,\n",
       "       1.22175696e+03, 1.19386432e+03, 1.17033583e+03, 1.14621261e+03,\n",
       "       1.09619917e+03, 1.06780398e+03, 1.00363935e+03, 9.73639809e+02,\n",
       "       9.66510333e+02, 9.52727663e+02, 9.20333273e+02, 9.16203231e+02,\n",
       "       8.98768620e+02, 8.82741875e+02, 8.39913104e+02, 8.34981168e+02,\n",
       "       8.06801527e+02, 7.83519671e+02, 7.74870819e+02, 7.58329184e+02,\n",
       "       7.48186738e+02, 7.16510405e+02, 7.12174714e+02, 6.95763185e+02,\n",
       "       6.89802224e+02, 6.73360921e+02, 6.50368707e+02, 6.36106285e+02,\n",
       "       6.32772215e+02, 6.25998411e+02, 6.12735059e+02, 5.95555459e+02,\n",
       "       5.84108312e+02, 5.81045895e+02, 5.78747209e+02, 5.69270768e+02,\n",
       "       5.58718086e+02, 5.45474615e+02, 5.44295014e+02, 5.35787465e+02,\n",
       "       5.27254469e+02, 5.18844297e+02, 5.06838568e+02, 5.01705753e+02,\n",
       "       4.93704170e+02, 4.91126001e+02, 4.82171582e+02, 4.76813838e+02,\n",
       "       4.72503291e+02, 4.67451546e+02, 4.58114894e+02, 4.42501610e+02,\n",
       "       4.39636407e+02, 4.38014717e+02, 4.29846669e+02, 4.25924122e+02,\n",
       "       4.17011012e+02, 4.12725806e+02, 4.07183326e+02, 4.02931773e+02,\n",
       "       4.02035131e+02, 4.00011640e+02, 3.92465336e+02, 3.85129818e+02,\n",
       "       3.84331289e+02, 3.80100473e+02, 3.72684733e+02, 3.72420611e+02,\n",
       "       3.64509164e+02, 3.61795014e+02, 3.54243525e+02, 3.51684641e+02,\n",
       "       3.47158317e+02, 3.40849902e+02, 3.33649427e+02, 3.33057548e+02,\n",
       "       3.29250545e+02, 3.24355474e+02, 3.20927623e+02, 3.20033880e+02,\n",
       "       3.16221183e+02, 3.11606468e+02, 3.09687336e+02, 3.06568375e+02,\n",
       "       3.02086924e+02, 2.99998682e+02, 2.95936535e+02, 2.95186234e+02,\n",
       "       2.92845958e+02, 2.90871870e+02, 2.87686755e+02, 2.85378702e+02,\n",
       "       2.77402204e+02, 2.75536839e+02, 2.73495670e+02, 2.71510967e+02,\n",
       "       2.67091170e+02, 2.64712112e+02, 2.62948763e+02, 2.59520603e+02,\n",
       "       2.55581409e+02, 2.54337826e+02, 2.50097364e+02, 2.48056441e+02,\n",
       "       2.44683430e+02, 2.44430938e+02, 2.42753749e+02, 2.37709599e+02,\n",
       "       2.35428916e+02, 2.33707714e+02, 2.31965733e+02, 2.29413355e+02,\n",
       "       2.27098708e+02, 2.25166109e+02, 2.23060026e+02, 2.21642745e+02,\n",
       "       2.19395215e+02, 2.16144244e+02, 2.15288757e+02, 2.11836440e+02,\n",
       "       2.10092839e+02, 2.08259063e+02, 2.04811164e+02, 2.03629052e+02,\n",
       "       2.00986942e+02, 1.98692125e+02, 1.97026574e+02, 1.93960662e+02,\n",
       "       1.93374494e+02, 1.90498123e+02, 1.89056247e+02, 1.88220626e+02,\n",
       "       1.85530380e+02, 1.84133483e+02, 1.80474083e+02, 1.79969749e+02,\n",
       "       1.78283523e+02, 1.75336390e+02, 1.72175458e+02, 1.68272213e+02,\n",
       "       1.66582333e+02, 1.65308076e+02, 1.64977783e+02, 1.62224439e+02,\n",
       "       1.61622086e+02, 1.59767823e+02, 1.57267727e+02, 1.55814557e+02,\n",
       "       1.54934824e+02, 1.53938629e+02, 1.52308740e+02, 1.51522609e+02,\n",
       "       1.49836718e+02, 1.49538458e+02, 1.46032353e+02, 1.43970479e+02,\n",
       "       1.42697379e+02, 1.40550070e+02, 1.37537586e+02, 1.36430557e+02,\n",
       "       1.35814200e+02, 1.35500644e+02, 1.34511293e+02, 1.31151723e+02,\n",
       "       1.29542113e+02, 1.29129688e+02, 1.27116470e+02, 1.25617956e+02,\n",
       "       1.24115093e+02, 1.22622905e+02, 1.21510065e+02, 1.20108657e+02,\n",
       "       1.18789098e+02, 1.17943750e+02, 1.16680710e+02, 1.15899218e+02,\n",
       "       1.14423031e+02, 1.11569404e+02, 1.09017748e+02, 1.08361646e+02,\n",
       "       1.06781613e+02, 1.04230560e+02, 1.03861355e+02, 9.96094803e+01,\n",
       "       9.81889219e+01, 9.37710315e+01, 9.22333757e+01, 9.08699170e+01,\n",
       "       8.79779628e+01, 8.69182469e+01, 8.42064987e+01, 8.09050934e+01,\n",
       "       7.99471646e+01, 7.68289817e+01, 7.14501851e+01, 6.84633062e+01,\n",
       "       6.48197459e+01, 5.98546912e+01, 5.39245585e+01, 4.99525292e+01])"
      ]
     },
     "execution_count": 64,
     "metadata": {},
     "output_type": "execute_result"
    }
   ],
   "source": [
    "#Descending Sorting\n",
    "eigen_values= np.ndarray.copy(w)\n",
    "id(eigen_values)\n",
    "indexes=[i for i in range(400)]\n",
    "for i in range(len(w)-1):\n",
    "    max_idx = i; \n",
    "    for j in range(i+1,len(w)):\n",
    "        if(w[j]>w[max_idx]):\n",
    "            max_idx = j;\n",
    "    \n",
    "    indexes[i],indexes[max_idx]=indexes[max_idx],indexes[i]\n",
    "    w[i],w[max_idx]=w[max_idx],w[i]\n",
    "    \n",
    "w"
   ]
  },
  {
   "cell_type": "code",
   "execution_count": 65,
   "metadata": {},
   "outputs": [
    {
     "data": {
      "text/plain": [
       "array([68, 64, 59, 53, 49])"
      ]
     },
     "execution_count": 65,
     "metadata": {},
     "output_type": "execute_result"
    }
   ],
   "source": [
    "w[-5:].astype(int)"
   ]
  },
  {
   "cell_type": "code",
   "execution_count": 66,
   "metadata": {},
   "outputs": [
    {
     "data": {
      "text/plain": [
       "(49.952529153959745, 49.952529153959745)"
      ]
     },
     "execution_count": 66,
     "metadata": {},
     "output_type": "execute_result"
    }
   ],
   "source": [
    "min(eigen_values),w[-1]"
   ]
  },
  {
   "cell_type": "markdown",
   "metadata": {},
   "source": [
    "# Testing Preprocessing"
   ]
  },
  {
   "cell_type": "code",
   "execution_count": 67,
   "metadata": {},
   "outputs": [
    {
     "data": {
      "text/plain": [
       "array([[ -94.33821817,  -94.33821817,  -95.33821817, ...,  -91.33821817,\n",
       "         -88.33821817,  -95.33821817],\n",
       "       [-106.98893634, -100.98893634, -100.98893634, ..., -112.98893634,\n",
       "        -110.98893634, -109.98893634],\n",
       "       [ -88.59549689,  -89.59549689, -100.59549689, ...,  -89.59549689,\n",
       "         -89.59549689,  -95.59549689],\n",
       "       ...,\n",
       "       [  23.3289014 ,   20.3289014 ,   27.3289014 , ...,    4.3289014 ,\n",
       "          -0.6710986 ,    3.3289014 ],\n",
       "       [  22.05221273,   25.05221273,   23.05221273, ...,   -0.94778727,\n",
       "          -2.94778727,    3.05221273],\n",
       "       [  21.06667314,   23.06667314,   24.06667314, ...,    3.06667314,\n",
       "          -1.93332686,    1.06667314]])"
      ]
     },
     "execution_count": 67,
     "metadata": {},
     "output_type": "execute_result"
    }
   ],
   "source": [
    "testing_dir = 'ATnT/Testing'\n",
    "\n",
    "X,Class_Y= LoadData(testing_dir, (imageWidth, imageHeight))\n",
    "\n",
    "X_zero=[]\n",
    "for i in range(len(X)):\n",
    "    X_zero.append(X[i]-X_mean[i])\n",
    "X_zero=np.array(X_zero)\n",
    "X_zero"
   ]
  },
  {
   "cell_type": "markdown",
   "metadata": {},
   "source": [
    "# k - Principal Components"
   ]
  },
  {
   "cell_type": "code",
   "execution_count": 68,
   "metadata": {},
   "outputs": [],
   "source": [
    "def min_index(arr):\n",
    "    index=0\n",
    "    for i in range(1,len(arr)):\n",
    "        if(arr[index] > arr[i]):\n",
    "            index=i\n",
    "    return index"
   ]
  },
  {
   "cell_type": "code",
   "execution_count": 69,
   "metadata": {},
   "outputs": [],
   "source": [
    "\n",
    "def principal_component_faces(K):\n",
    "    #Generating feature vector\n",
    "    feature_vector = v[indexes[:K]]\n",
    "\n",
    "    eigen_faces=np.matmul(feature_vector , train_zero)\n",
    "\n",
    "    signature=[]\n",
    "    trans=np.matrix.transpose(train_zero)\n",
    "    for i in range(len(trans[0])):\n",
    "        signature.append(np.matmul(eigen_faces , trans[:,i]))\n",
    "    signature = np.array(signature)\n",
    "\n",
    "    ##TESTING\n",
    "    proj_test_face=[]\n",
    "    for i in range(len(X_zero)):\n",
    "        proj_test_face.append(np.matmul(eigen_faces , X_zero[i]))\n",
    "    proj_test_face\n",
    "    proj_test_face=np.array(proj_test_face)\n",
    "\n",
    "    dist=[]\n",
    "    index_min=[]\n",
    "    for i in range(len(proj_test_face)):\n",
    "        d=[]\n",
    "        for j in range(len(signature)):\n",
    "            d.append(np.linalg.norm(signature[j] -proj_test_face[i]))\n",
    "        dist.append(d)\n",
    "        index_min.append(min_index(d))\n",
    "\n",
    "    dist=np.array(dist)\n",
    "\n",
    "    count=0\n",
    "    for i in range(len(index_min)):\n",
    "        if(Class_X[index_min[i]] ==Class_Y[i]):\n",
    "            count+=1\n",
    "    return count/len(index_min)"
   ]
  },
  {
   "cell_type": "code",
   "execution_count": 70,
   "metadata": {},
   "outputs": [
    {
     "data": {
      "text/plain": [
       "0.825"
      ]
     },
     "execution_count": 70,
     "metadata": {},
     "output_type": "execute_result"
    }
   ],
   "source": [
    "principal_component_faces(50)"
   ]
  },
  {
   "cell_type": "code",
   "execution_count": 71,
   "metadata": {},
   "outputs": [
    {
     "data": {
      "text/plain": [
       "[0.025,\n",
       " 0.0625,\n",
       " 0.125,\n",
       " 0.40625,\n",
       " 0.41875,\n",
       " 0.525,\n",
       " 0.575,\n",
       " 0.58125,\n",
       " 0.5625,\n",
       " 0.6,\n",
       " 0.625,\n",
       " 0.675,\n",
       " 0.675,\n",
       " 0.725,\n",
       " 0.73125,\n",
       " 0.73125,\n",
       " 0.74375,\n",
       " 0.7625,\n",
       " 0.7625,\n",
       " 0.78125,\n",
       " 0.79375,\n",
       " 0.80625,\n",
       " 0.8125,\n",
       " 0.81875,\n",
       " 0.825,\n",
       " 0.83125,\n",
       " 0.83125,\n",
       " 0.8375,\n",
       " 0.8375,\n",
       " 0.825,\n",
       " 0.83125,\n",
       " 0.83125,\n",
       " 0.84375,\n",
       " 0.8125,\n",
       " 0.8125,\n",
       " 0.8125,\n",
       " 0.81875,\n",
       " 0.83125,\n",
       " 0.83125,\n",
       " 0.825,\n",
       " 0.83125,\n",
       " 0.81875,\n",
       " 0.83125,\n",
       " 0.825,\n",
       " 0.81875,\n",
       " 0.81875,\n",
       " 0.83125,\n",
       " 0.825,\n",
       " 0.825,\n",
       " 0.825,\n",
       " 0.825,\n",
       " 0.825,\n",
       " 0.825,\n",
       " 0.825,\n",
       " 0.825,\n",
       " 0.825,\n",
       " 0.825,\n",
       " 0.825,\n",
       " 0.8,\n",
       " 0.8,\n",
       " 0.8,\n",
       " 0.8,\n",
       " 0.8,\n",
       " 0.79375,\n",
       " 0.80625,\n",
       " 0.8,\n",
       " 0.8,\n",
       " 0.8,\n",
       " 0.8,\n",
       " 0.80625,\n",
       " 0.80625,\n",
       " 0.7875,\n",
       " 0.79375,\n",
       " 0.79375,\n",
       " 0.79375,\n",
       " 0.80625,\n",
       " 0.8,\n",
       " 0.8,\n",
       " 0.79375,\n",
       " 0.79375,\n",
       " 0.79375,\n",
       " 0.79375,\n",
       " 0.79375,\n",
       " 0.8,\n",
       " 0.8,\n",
       " 0.8,\n",
       " 0.80625,\n",
       " 0.8,\n",
       " 0.80625,\n",
       " 0.8125,\n",
       " 0.80625,\n",
       " 0.80625,\n",
       " 0.80625,\n",
       " 0.80625,\n",
       " 0.79375,\n",
       " 0.80625,\n",
       " 0.8,\n",
       " 0.79375,\n",
       " 0.8,\n",
       " 0.79375,\n",
       " 0.80625,\n",
       " 0.8,\n",
       " 0.8125,\n",
       " 0.80625,\n",
       " 0.8125,\n",
       " 0.80625,\n",
       " 0.8125,\n",
       " 0.8125,\n",
       " 0.8125,\n",
       " 0.81875,\n",
       " 0.81875,\n",
       " 0.8125,\n",
       " 0.8125,\n",
       " 0.8125,\n",
       " 0.8125,\n",
       " 0.81875,\n",
       " 0.8125,\n",
       " 0.8125,\n",
       " 0.81875,\n",
       " 0.8125,\n",
       " 0.81875,\n",
       " 0.81875,\n",
       " 0.81875,\n",
       " 0.81875,\n",
       " 0.81875,\n",
       " 0.81875,\n",
       " 0.81875,\n",
       " 0.81875,\n",
       " 0.8125,\n",
       " 0.8125,\n",
       " 0.8125,\n",
       " 0.80625,\n",
       " 0.8125,\n",
       " 0.8125,\n",
       " 0.81875,\n",
       " 0.81875,\n",
       " 0.81875,\n",
       " 0.81875,\n",
       " 0.81875,\n",
       " 0.8125,\n",
       " 0.8125,\n",
       " 0.8125,\n",
       " 0.8125,\n",
       " 0.8125,\n",
       " 0.8125,\n",
       " 0.80625,\n",
       " 0.8,\n",
       " 0.80625,\n",
       " 0.80625,\n",
       " 0.80625,\n",
       " 0.80625,\n",
       " 0.8125,\n",
       " 0.8125,\n",
       " 0.81875,\n",
       " 0.81875,\n",
       " 0.81875,\n",
       " 0.81875,\n",
       " 0.81875,\n",
       " 0.81875,\n",
       " 0.81875,\n",
       " 0.81875,\n",
       " 0.81875,\n",
       " 0.81875,\n",
       " 0.81875,\n",
       " 0.81875,\n",
       " 0.81875,\n",
       " 0.81875,\n",
       " 0.81875,\n",
       " 0.825,\n",
       " 0.825,\n",
       " 0.825,\n",
       " 0.825,\n",
       " 0.825,\n",
       " 0.825,\n",
       " 0.825,\n",
       " 0.825,\n",
       " 0.825,\n",
       " 0.825,\n",
       " 0.825,\n",
       " 0.825,\n",
       " 0.825,\n",
       " 0.825,\n",
       " 0.825,\n",
       " 0.825,\n",
       " 0.825,\n",
       " 0.825,\n",
       " 0.825,\n",
       " 0.825,\n",
       " 0.825,\n",
       " 0.825,\n",
       " 0.825,\n",
       " 0.825,\n",
       " 0.825,\n",
       " 0.825,\n",
       " 0.825,\n",
       " 0.825,\n",
       " 0.825,\n",
       " 0.825,\n",
       " 0.825,\n",
       " 0.825,\n",
       " 0.825,\n",
       " 0.825,\n",
       " 0.825,\n",
       " 0.83125,\n",
       " 0.83125,\n",
       " 0.83125,\n",
       " 0.83125,\n",
       " 0.83125,\n",
       " 0.825,\n",
       " 0.825,\n",
       " 0.825,\n",
       " 0.825,\n",
       " 0.825,\n",
       " 0.825,\n",
       " 0.825,\n",
       " 0.825,\n",
       " 0.825,\n",
       " 0.825,\n",
       " 0.825,\n",
       " 0.825,\n",
       " 0.825,\n",
       " 0.825,\n",
       " 0.825,\n",
       " 0.825,\n",
       " 0.825,\n",
       " 0.825,\n",
       " 0.825,\n",
       " 0.825,\n",
       " 0.825,\n",
       " 0.825,\n",
       " 0.825,\n",
       " 0.825,\n",
       " 0.825,\n",
       " 0.825,\n",
       " 0.825,\n",
       " 0.825,\n",
       " 0.825,\n",
       " 0.825,\n",
       " 0.825,\n",
       " 0.825]"
      ]
     },
     "execution_count": 71,
     "metadata": {},
     "output_type": "execute_result"
    }
   ],
   "source": [
    "acc=[]\n",
    "for i in range(len(w)):\n",
    "    acc.append(principal_component_faces(i))\n",
    "arr"
   ]
  },
  {
   "cell_type": "code",
   "execution_count": 72,
   "metadata": {},
   "outputs": [
    {
     "data": {
      "text/plain": [
       "0.84375"
      ]
     },
     "execution_count": 72,
     "metadata": {},
     "output_type": "execute_result"
    }
   ],
   "source": [
    "max(acc)"
   ]
  },
  {
   "cell_type": "code",
   "execution_count": 73,
   "metadata": {},
   "outputs": [
    {
     "data": {
      "image/png": "[encoded data removed]",
      "text/plain": [
       "<Figure size 1440x720 with 1 Axes>"
      ]
     },
     "metadata": {
      "needs_background": "light"
     },
     "output_type": "display_data"
    }
   ],
   "source": [
    "import matplotlib.pyplot as plt\n",
    "x = [i for i in range(1,len(w)+1)]\n",
    "plt.figure(figsize=(20,10))\n",
    "plt.plot(x,acc)\n",
    "plt.axis([0, 250, 0, 1])\n",
    "plt.ylabel('Accuracy')\n",
    "plt.xlabel('K - principal component')\n",
    "plt.grid(True)\n",
    "plt.show()"
   ]
  },
  {
   "cell_type": "code",
   "execution_count": null,
   "metadata": {},
   "outputs": [],
   "source": []
  },
  {
   "cell_type": "code",
   "execution_count": null,
   "metadata": {},
   "outputs": [],
   "source": []
  },
  {
   "cell_type": "code",
   "execution_count": null,
   "metadata": {},
   "outputs": [],
   "source": []
  }
 ],
 "metadata": {
  "kernelspec": {
   "display_name": "Python 3",
   "language": "python",
   "name": "python3"
  },
  "language_info": {
   "codemirror_mode": {
    "name": "ipython",
    "version": 3
   },
   "file_extension": ".py",
   "mimetype": "text/x-python",
   "name": "python",
   "nbconvert_exporter": "python",
   "pygments_lexer": "ipython3",
   "version": "3.7.6"
  }
 },
 "nbformat": 4,
 "nbformat_minor": 4
}
